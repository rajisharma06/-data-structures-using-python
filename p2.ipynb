{
 "cells": [
  {
   "cell_type": "code",
   "execution_count": null,
   "id": "fc08388a-bf28-4730-9f9d-8385c7926802",
   "metadata": {},
   "outputs": [],
   "source": [
    "#1"
   ]
  },
  {
   "cell_type": "code",
   "execution_count": 1,
   "id": "1ac54f41-d933-4272-8509-b7f7a72546c6",
   "metadata": {},
   "outputs": [
    {
     "name": "stdout",
     "output_type": "stream",
     "text": [
      "String: (a + b) * (c - d)\n",
      "First Mismatched Position: -1\n",
      "\n",
      "String: (a + b)) + c(\n",
      "First Mismatched Position: 7\n",
      "\n",
      "String: ((a + b) * c\n",
      "First Mismatched Position: 0\n",
      "\n",
      "String: a + b) * (c - d(\n",
      "First Mismatched Position: 5\n",
      "\n"
     ]
    }
   ],
   "source": [
    "def find_mismatched_parenthesis(s):\n",
    "    \"\"\"Finds the position of the first mismatched parenthesis in the given string.\"\"\"\n",
    "    stack = []  # Stack to store positions of '('\n",
    "\n",
    "    for i, char in enumerate(s):\n",
    "        if char == '(':\n",
    "            stack.append(i)  # Store index of '('\n",
    "        elif char == ')':\n",
    "            if stack:\n",
    "                stack.pop()  # Found a matching '('\n",
    "            else:\n",
    "                return i  # Unmatched closing parenthesis at position i\n",
    "\n",
    "    # If there are unmatched '(' left, return the first one's position\n",
    "    if stack:\n",
    "        return stack[0]\n",
    "\n",
    "    return -1  # All parentheses are balanced\n",
    "\n",
    "# Example Usage\n",
    "test_strings = [\n",
    "    \"(a + b) * (c - d)\",   # Balanced\n",
    "    \"(a + b)) + c(\",       # First mismatch at index 7 (extra ')')\n",
    "    \"((a + b) * c\",        # First mismatch at index 0 (extra '(')\n",
    "    \"a + b) * (c - d(\",    # First mismatch at index 5 (extra ')')\n",
    "]\n",
    "\n",
    "for s in test_strings:\n",
    "    print(f\"String: {s}\")\n",
    "    print(f\"First Mismatched Position: {find_mismatched_parenthesis(s)}\\n\")\n"
   ]
  },
  {
   "cell_type": "code",
   "execution_count": null,
   "id": "a49d95dc-8dfe-4646-9327-739c2345736e",
   "metadata": {},
   "outputs": [],
   "source": [
    "#2"
   ]
  },
  {
   "cell_type": "code",
   "execution_count": 3,
   "id": "54a93821-3766-4f00-9f57-d7f4f6342d6d",
   "metadata": {},
   "outputs": [
    {
     "name": "stdout",
     "output_type": "stream",
     "text": [
      "String: a + (b * c) + (d / e) - ((f + g) * h)\n",
      "Balanced Parentheses Positions: [(4, 10), (14, 20), (25, 31), (24, 36)]\n"
     ]
    }
   ],
   "source": [
    "def find_balanced_parentheses(s):\n",
    "    \"\"\"Finds all balanced parentheses pairs in the given string and returns their positions.\"\"\"\n",
    "    stack = []  # Stack to store indices of '('\n",
    "    balanced_pairs = []  # List to store balanced index pairs\n",
    "\n",
    "    for i, char in enumerate(s):\n",
    "        if char == '(':\n",
    "            stack.append(i)  # Store index of '('\n",
    "        elif char == ')':\n",
    "            if stack:\n",
    "                open_index = stack.pop()  # Find matching '('\n",
    "                balanced_pairs.append((open_index, i))  # Store balanced indices\n",
    "\n",
    "    return balanced_pairs\n",
    "\n",
    "# Example Usage\n",
    "test_string = \"a + (b * c) + (d / e) - ((f + g) * h)\"\n",
    "print(\"String:\", test_string)\n",
    "print(\"Balanced Parentheses Positions:\", find_balanced_parentheses(test_string))\n"
   ]
  },
  {
   "cell_type": "code",
   "execution_count": null,
   "id": "41b1e559-c344-4b8b-807f-b422e4aafe27",
   "metadata": {},
   "outputs": [],
   "source": [
    "#3"
   ]
  },
  {
   "cell_type": "code",
   "execution_count": 5,
   "id": "8c3b8e0e-2aec-48dc-9be3-8d0b79a3fcbb",
   "metadata": {},
   "outputs": [
    {
     "name": "stdout",
     "output_type": "stream",
     "text": [
      "String: ((), Min Additions: 1\n",
      "String: ()), Min Additions: 1\n",
      "String: (((, Min Additions: 3\n",
      "String: ))), Min Additions: 3\n",
      "String: (()), Min Additions: 0\n",
      "String: )(, Min Additions: 2\n",
      "String: (()))(, Min Additions: 2\n"
     ]
    }
   ],
   "source": [
    "def min_parentheses_to_add(s):\n",
    "    \"\"\"Returns the minimum number of parentheses needed to make the string valid.\"\"\"\n",
    "    open_needed = 0  # Tracks unmatched ')'\n",
    "    close_needed = 0  # Tracks unmatched '('\n",
    "\n",
    "    for char in s:\n",
    "        if char == '(':\n",
    "            close_needed += 1  # Expect a closing ')'\n",
    "        elif char == ')':\n",
    "            if close_needed > 0:\n",
    "                close_needed -= 1  # Match found, decrease count\n",
    "            else:\n",
    "                open_needed += 1  # Unmatched ')', needs '('\n",
    "\n",
    "    return open_needed + close_needed\n",
    "\n",
    "# Example Usage\n",
    "test_strings = [\n",
    "    \"(()\",        # Needs 1 ')' -> Output: 1\n",
    "    \"())\",        # Needs 1 '(' -> Output: 1\n",
    "    \"(((\",        # Needs 3 ')' -> Output: 3\n",
    "    \")))\",        # Needs 3 '(' -> Output: 3\n",
    "    \"(())\",       # Already balanced -> Output: 0\n",
    "    \")(\",         # Needs 2 -> Output: 2\n",
    "    \"(()))(\",     # Needs 2 -> Output: 2\n",
    "]\n",
    "\n",
    "for s in test_strings:\n",
    "    print(f\"String: {s}, Min Additions: {min_parentheses_to_add(s)}\")\n"
   ]
  },
  {
   "cell_type": "markdown",
   "id": "11852cd9-e887-440d-89e6-4feb441d7dc6",
   "metadata": {},
   "source": [
    "##### 4"
   ]
  },
  {
   "cell_type": "code",
   "execution_count": 8,
   "id": "6928c463-df50-418f-8f6b-95c5704a69dc",
   "metadata": {},
   "outputs": [
    {
     "name": "stdout",
     "output_type": "stream",
     "text": [
      "String: ((), Longest Valid Length: 2\n",
      "String: )()()), Longest Valid Length: 4\n",
      "String: ((())), Longest Valid Length: 6\n",
      "String: )))(((, Longest Valid Length: 0\n",
      "String: ()(()), Longest Valid Length: 6\n"
     ]
    }
   ],
   "source": [
    "def longest_valid_parentheses(s):\n",
    "    \"\"\"Returns the length of the longest valid parentheses substring.\"\"\"\n",
    "    stack = [-1]  # Stack to store indices, initialized with -1\n",
    "    max_length = 0\n",
    "\n",
    "    for i, char in enumerate(s):\n",
    "        if char == '(':\n",
    "            stack.append(i)  # Store index of '('\n",
    "        else:  # char == ')'\n",
    "            stack.pop()  # Remove the last '(' (if any)\n",
    "            if stack:\n",
    "                max_length = max(max_length, i - stack[-1])  # Compute length\n",
    "            else:\n",
    "                stack.append(i)  # Reset base index\n",
    "\n",
    "    return max_length\n",
    "\n",
    "# Example Usage\n",
    "test_strings = [\n",
    "    \"(()\",        # \"()\" -> Length: 2\n",
    "    \")()())\",     # \"()()\" -> Length: 4\n",
    "    \"((()))\",     # \"((()))\" -> Length: 6\n",
    "    \")))(((\",     # No valid substring -> Length: 0\n",
    "    \"()(())\",     # \"()(())\" -> Length: 6\n",
    "]\n",
    "\n",
    "for s in test_strings:\n",
    "    print(f\"String: {s}, Longest Valid Length: {longest_valid_parentheses(s)}\")\n"
   ]
  }
 ],
 "metadata": {
  "kernelspec": {
   "display_name": "Python [conda env:base] *",
   "language": "python",
   "name": "conda-base-py"
  },
  "language_info": {
   "codemirror_mode": {
    "name": "ipython",
    "version": 3
   },
   "file_extension": ".py",
   "mimetype": "text/x-python",
   "name": "python",
   "nbconvert_exporter": "python",
   "pygments_lexer": "ipython3",
   "version": "3.12.7"
  }
 },
 "nbformat": 4,
 "nbformat_minor": 5
}
